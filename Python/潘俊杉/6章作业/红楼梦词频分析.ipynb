{
 "cells": [
  {
   "cell_type": "code",
   "execution_count": null,
   "metadata": {},
   "outputs": [],
   "source": [
    "import jieba\n",
    "import re\n",
    "import matplotlib.pyplot as plt\n",
    "\n",
    "text = open('红楼梦 copy.txt', \"r\", encoding='utf-8').read()\n",
    "new_text = re.sub(r\"[\\u3000-\\u303F|\\uFF00-\\uFFEF|\\W]+\", \"\", text)\n",
    "\n",
    "stopwords = open('stop_words.txt', 'r', encoding='utf-8').read()\n",
    "new_stopwords = re.findall(r\"[\\u4e00-\\u9fa5]+\", stopwords)\n",
    "\n",
    "words = jieba.lcut(new_text)\n",
    "item = list(set(words))\n",
    "word_dir = {}\n",
    "for word in item:\n",
    "    if word not in new_stopwords:\n",
    "        word_dir[word] = words.count(word)\n",
    "\n",
    "result = list(word_dir.items())\n",
    "result.sort(key=lambda x: x[1], reverse=True)\n",
    "result_name = [result[i][0] for i in range(20)]\n",
    "result_count = [result[i][1] for i in range(20)]\n",
    "\n",
    "plt.rcParams['font.family'] = 'WenQuanYi Zen Hei'\n",
    "plt.rcParams['font.sans-serif'] = ['WenQuanYi Zen Hei']\n",
    "plt.rcParams['axes.unicode_minus'] = False\n",
    "plt.bar(result_name, result_count)\n",
    "plt.title(\"《红楼梦》中词频最高的前20个词汇\")\n",
    "plt.show()\n"
   ]
  }
 ],
 "metadata": {
  "kernelspec": {
   "display_name": "Python 3",
   "language": "python",
   "name": "python3"
  },
  "language_info": {
   "codemirror_mode": {
    "name": "ipython",
    "version": 3
   },
   "file_extension": ".py",
   "mimetype": "text/x-python",
   "name": "python",
   "nbconvert_exporter": "python",
   "pygments_lexer": "ipython3",
   "version": "3.10.12"
  }
 },
 "nbformat": 4,
 "nbformat_minor": 2
}
